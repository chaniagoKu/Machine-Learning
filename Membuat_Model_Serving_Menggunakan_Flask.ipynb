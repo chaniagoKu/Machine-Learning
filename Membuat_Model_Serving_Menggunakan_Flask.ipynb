{
  "nbformat": 4,
  "nbformat_minor": 0,
  "metadata": {
    "colab": {
      "provenance": []
    },
    "kernelspec": {
      "name": "python3",
      "display_name": "Python 3"
    },
    "language_info": {
      "name": "python"
    }
  },
  "cells": [
    {
      "cell_type": "markdown",
      "source": [
        "# Pengenalan Tools"
      ],
      "metadata": {
        "id": "O_HBKMDBgfL7"
      }
    },
    {
      "cell_type": "markdown",
      "source": [
        "Pada dasarnya Flask merupakan sebuah micro web framework yang ditulis dalam bahasa Python. Ia menyediakan berbagai tools dan library yang dapat digunakan untuk membuat web application (web app)."
      ],
      "metadata": {
        "id": "N_cNOfecgbp4"
      }
    },
    {
      "cell_type": "markdown",
      "source": [
        "Sebagai micro web framework, Flask memiliki beberapa kelebihan, seperti mudah digunakan, bersifat fleksibel, berukuran kecil (lightweight), dll. Hal ini tentunya membuat Flask sebagai salah satu tools ideal untuk belajar membuat model serving sederhana.\n",
        "\n",
        "Selain itu, Flask juga menyediakan dokumentasi yang lengkap sehingga dapat membantu Anda dalam menggunakan tool ini. Anda dapat melihat dokumentasi flask melalui tautan berikut.\n",
        "\n",
        "https://flask.palletsprojects.com/en/2.1.x/"
      ],
      "metadata": {
        "id": "PHFEm_INglxE"
      }
    },
    {
      "cell_type": "markdown",
      "source": [
        "# Tahap Persiapan"
      ],
      "metadata": {
        "id": "wGn8sxwhgrdk"
      }
    },
    {
      "cell_type": "markdown",
      "source": [
        "Pertama, unduh atau clone repository latihan yang ada pada tautan berikut.\n",
        "https://github.com/dicodingacademy/a443-MLOps\n",
        "\n",
        "Repository ini mengandung starter code untuk latihan beserta solusinya. Anda dapat melakukan tahapan tersebut menggunakan perintah di bawah ini."
      ],
      "metadata": {
        "id": "Z02DtgK2gvQE"
      }
    },
    {
      "cell_type": "code",
      "execution_count": null,
      "metadata": {
        "id": "aZXdWC0iesZu"
      },
      "outputs": [],
      "source": [
        "!git clone https://github.com/dicodingacademy/a443-MLOps.git"
      ]
    },
    {
      "cell_type": "markdown",
      "source": [
        "Berikut struktur pada repository latihan ini."
      ],
      "metadata": {
        "id": "hA6Pn8OXhAHz"
      }
    },
    {
      "cell_type": "markdown",
      "source": [
        "    ├───latihan_model_serving_flask\n",
        "    │ ├───solution\n",
        "    │ └───starter\n",
        "    ├───latihan_model_serving_tfserving\n",
        "    │ ├───solution\n",
        "    │ └───starter\n",
        "    └───latihan_python_clean_code\n",
        "    ├───solution\n",
        "    └───starter"
      ],
      "metadata": {
        "id": "XWfGWBlKhCn3"
      }
    },
    {
      "cell_type": "markdown",
      "source": [
        "# Membuat Web App Sederhana Menggunakan Flask"
      ],
      "metadata": {
        "id": "0ynyz0w-hR2f"
      }
    },
    {
      "cell_type": "code",
      "source": [
        "import json\n",
        "import numpy as np\n",
        "import tensorflow as tf\n",
        "from flask import Flask, request"
      ],
      "metadata": {
        "id": "Cu_xjMzrg1pg"
      },
      "execution_count": null,
      "outputs": []
    },
    {
      "cell_type": "code",
      "source": [
        "# Mendefinisikan web app yang akan dibuat menggunakan Flash\n",
        "app = Flask(__name__)"
      ],
      "metadata": {
        "id": "C2AC_g4IhX31"
      },
      "execution_count": null,
      "outputs": []
    },
    {
      "cell_type": "code",
      "source": [
        "# Menginisialisasi route() dari web app tersebut\n",
        "# Mendefinisikan alamat URL yang dibutuhkan untuk menjalankan fungsi tertentu\n",
        "\n",
        "@app.route(\"/\")\n",
        "def hello_world():\n",
        "    return \"Hello, World!\""
      ],
      "metadata": {
        "id": "-A9-GO34hhoZ"
      },
      "execution_count": null,
      "outputs": []
    },
    {
      "cell_type": "markdown",
      "source": [
        "Pada contoh kode di atas, kita membuat sebuah route() dengan parameter “/” sebagai URL-nya. Ketika URL ini dijalankan, web app yang dibuat akan menjalankan fungsi hello_world() untuk menampilkan string “Hello, World!”.\n",
        "\n",
        "Setelah membuat route() untuk menjalankan fungsi hello_world(), tahap berikutnya adalah menambahkan perintah untuk menjalankan web app yang telah dibuat."
      ],
      "metadata": {
        "id": "BrmRVtjphyWL"
      }
    },
    {
      "cell_type": "markdown",
      "source": [
        "UNTUK CODE LEBIH LENGKAP DAN HASIL BISA DILIHAT DI.\n",
        "\n",
        "https://github.com/chaniagoKu/Machine-Learning/blob/main/Membuat_Web_App_Sederhana_Menggunakan_Flask.ipynb"
      ],
      "metadata": {
        "id": "Xu9D6RPfo9rc"
      }
    },
    {
      "cell_type": "markdown",
      "source": [
        "# Membuat API Endpoint dalam Web App sebagai Model Serving"
      ],
      "metadata": {
        "id": "pEihtRDTpG76"
      }
    },
    {
      "cell_type": "markdown",
      "source": [
        "Tahap selanjutnya adalah menambahkan API endpoint ke dalam web app yang sebelumnya telah dibuat. API endpoint ini digunakan untuk menjalankan model yang telah dilatih (proses model serving).\n",
        "\n",
        "Sebelum membuat API endpoint, tentunya perlu memanggil model (load model) yang sebelumnya telah dilatih."
      ],
      "metadata": {
        "id": "9wTHejJPpKl2"
      }
    },
    {
      "cell_type": "code",
      "source": [
        "# Simpan Model Fashion MNIST\n",
        "\n",
        "import tensorflow as tf\n",
        "from tensorflow.keras.datasets import fashion_mnist\n",
        "\n",
        "# Load data Fashion MNIST\n",
        "(train_images, train_labels), (test_images, test_labels) = fashion_mnist.load_data()\n",
        "\n",
        "# Normalisasi data\n",
        "train_images = train_images / 255.0\n",
        "test_images = test_images / 255.0\n",
        "\n",
        "# Buat model\n",
        "model = tf.keras.Sequential([\n",
        "    tf.keras.layers.Flatten(input_shape=(28, 28)),\n",
        "    tf.keras.layers.Dense(128, activation='relu'),\n",
        "    tf.keras.layers.Dense(10)\n",
        "])\n",
        "\n",
        "# Compile model\n",
        "model.compile(optimizer='adam',\n",
        "              loss=tf.keras.losses.SparseCategoricalCrossentropy(from_logits=True),\n",
        "              metrics=['accuracy'])\n",
        "\n",
        "# Latih model\n",
        "model.fit(train_images, train_labels, epochs=10)\n",
        "\n",
        "# Simpan model\n",
        "MODEL_PATH = \"path/to/saved/model\"\n",
        "model.save(MODEL_PATH)\n"
      ],
      "metadata": {
        "id": "p_NfJJR9ilS0"
      },
      "execution_count": null,
      "outputs": []
    },
    {
      "cell_type": "code",
      "source": [
        "# tahapan data preprocessing\n",
        "def data_preprocessing(image):\n",
        "    image = np.array(image) / 255.0\n",
        "    image = (np.expand_dims(image, 0))\n",
        "    return image"
      ],
      "metadata": {
        "id": "QDkKdikLrDta"
      },
      "execution_count": null,
      "outputs": []
    },
    {
      "cell_type": "markdown",
      "source": [
        "Pada contoh di atas, kita coba melakukan normalisasi terhadap input image yang diberikan user. Selain itu, kita juga menyesuaikan dimensi image dengan input_shape yang diharapkan oleh model.\n",
        "\n",
        "Tahap berikutnya adalah mendefinisikan route() untuk membuat API endpoint. Pada contoh ini, kita mendefinisikan API endpoint ke dalam URL “/predict” dengan POST method. POST method ini digunakan agar kita dapat mengirim data ke server."
      ],
      "metadata": {
        "id": "nZWdGDIrrRxD"
      }
    },
    {
      "cell_type": "code",
      "source": [
        "@app.route(\"/predict\", methods=[\"POST\"])\n",
        "def run_prediction():\n",
        "    request_json = request.json\n",
        "    image = data_preprocessing(request_json.get(\"data\"))\n",
        "\n",
        "    prediction = model.predict(image)\n",
        "    prediction = tf.argmax(prediction[0]).numpy()\n",
        "\n",
        "    class_names = [\n",
        "        'T-shirt/top', 'Trouser', 'Pullover', 'Dress',\n",
        "        'Coat', 'Sandal', 'Shirt', 'Sneaker', 'Bag', 'Ankle boot'\n",
        "    ]\n",
        "\n",
        "    response_json = {\n",
        "        \"prediction\": class_names[prediction]\n",
        "    }\n",
        "\n",
        "    return json.dumps(response_json)"
      ],
      "metadata": {
        "id": "zFEhClr2rOPH"
      },
      "execution_count": null,
      "outputs": []
    },
    {
      "cell_type": "markdown",
      "source": [
        "Pada contoh kode di atas, kita mengekspektasikan bahwa input image yang dikirim memiliki format json dengan key “data”. Selain itu, kita juga akan memberikan output berupa json dengan key “prediction”."
      ],
      "metadata": {
        "id": "5jETuUc4sbMF"
      }
    },
    {
      "cell_type": "code",
      "source": [
        "if __name__ == '__main__':\n",
        "    app.run(debug=True)"
      ],
      "metadata": {
        "colab": {
          "base_uri": "https://localhost:8080/"
        },
        "id": "gEpr8nXisAKw",
        "outputId": "43d79714-34d3-4968-8c43-1b4adac9634d"
      },
      "execution_count": null,
      "outputs": [
        {
          "metadata": {
            "tags": null
          },
          "name": "stdout",
          "output_type": "stream",
          "text": [
            " * Serving Flask app '__main__'\n",
            " * Debug mode: on\n"
          ]
        },
        {
          "metadata": {
            "tags": null
          },
          "name": "stderr",
          "output_type": "stream",
          "text": [
            "INFO:werkzeug:\u001b[31m\u001b[1mWARNING: This is a development server. Do not use it in a production deployment. Use a production WSGI server instead.\u001b[0m\n",
            " * Running on http://127.0.0.1:5000\n",
            "INFO:werkzeug:\u001b[33mPress CTRL+C to quit\u001b[0m\n",
            "INFO:werkzeug: * Restarting with stat\n"
          ]
        }
      ]
    },
    {
      "cell_type": "code",
      "source": [],
      "metadata": {
        "id": "Ejm5roBmsuZj"
      },
      "execution_count": null,
      "outputs": []
    }
  ]
}